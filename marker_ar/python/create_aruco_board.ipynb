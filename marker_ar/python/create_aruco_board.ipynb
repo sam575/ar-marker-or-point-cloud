{
 "cells": [
  {
   "cell_type": "code",
   "execution_count": 14,
   "id": "considered-telling",
   "metadata": {},
   "outputs": [],
   "source": [
    "import cv2\n",
    "import numpy as np\n",
    "import os\n",
    "import matplotlib.pyplot as plt"
   ]
  },
  {
   "cell_type": "code",
   "execution_count": 15,
   "id": "comfortable-minister",
   "metadata": {},
   "outputs": [],
   "source": [
    "board_h, board_w = 2224, 1668\n",
    "save_path = \"marker.png\"\n",
    "\n",
    "arucoDict = cv2.aruco.Dictionary_get(cv2.aruco.DICT_6X6_250)\n",
    "# arucoDict = cv2.aruco.Dictionary_get(cv2.aruco.DICT_ARUCO_ORIGINAL)"
   ]
  },
  {
   "cell_type": "code",
   "execution_count": 16,
   "id": "lesser-heather",
   "metadata": {},
   "outputs": [
    {
     "data": {
      "text/plain": [
       "(162, 134)"
      ]
     },
     "execution_count": 16,
     "metadata": {},
     "output_type": "execute_result"
    }
   ],
   "source": [
    "l = 400\n",
    "n,m = 4, 3\n",
    "# n,m = 1, 1\n",
    "sep = 100\n",
    "start_j = (board_w - m * l - (m - 1) * sep)//2\n",
    "start_i = (board_h - n * l - (n - 1) * sep)//2\n",
    "start_i, start_j"
   ]
  },
  {
   "cell_type": "code",
   "execution_count": 17,
   "id": "prepared-header",
   "metadata": {},
   "outputs": [
    {
     "data": {
      "text/plain": [
       "<matplotlib.image.AxesImage at 0x20a546666a0>"
      ]
     },
     "execution_count": 17,
     "metadata": {},
     "output_type": "execute_result"
    },
    {
     "data": {
      "image/png": "[encoded data removed]",
      "text/plain": [
       "<Figure size 432x288 with 1 Axes>"
      ]
     },
     "metadata": {
      "needs_background": "light"
     },
     "output_type": "display_data"
    }
   ],
   "source": [
    "board = (255 * np.ones((board_h, board_w))).astype(np.uint8)\n",
    "\n",
    "ids = np.random.choice(list(range(250)), size=n*m, replace=False)\n",
    "\n",
    "for i, id_ in enumerate(ids):\n",
    "    img = cv2.aruco.drawMarker(arucoDict, id_, l)\n",
    "    pos_i = start_i + (l + sep) * (i // m)\n",
    "    pos_j = start_j + (l + sep) * (i % m)\n",
    "    board[pos_i:pos_i+l, pos_j:pos_j+l] = img\n",
    "    \n",
    "cv2.imwrite(save_path, board)    \n",
    "plt.imshow(board)"
   ]
  },
  {
   "cell_type": "code",
   "execution_count": 18,
   "id": "corrected-exhaust",
   "metadata": {},
   "outputs": [
    {
     "data": {
      "text/plain": [
       "<matplotlib.image.AxesImage at 0x20a54a744a8>"
      ]
     },
     "execution_count": 18,
     "metadata": {},
     "output_type": "execute_result"
    },
    {
     "data": {
      "image/png": "[encoded data removed]",
      "text/plain": [
       "<Figure size 432x288 with 1 Axes>"
      ]
     },
     "metadata": {
      "needs_background": "light"
     },
     "output_type": "display_data"
    }
   ],
   "source": [
    "plt.imshow(img)"
   ]
  },
  {
   "cell_type": "code",
   "execution_count": 19,
   "id": "determined-prague",
   "metadata": {},
   "outputs": [
    {
     "data": {
      "text/plain": [
       "(0.03848484848484848, 0.00962121212121212)"
      ]
     },
     "execution_count": 19,
     "metadata": {},
     "output_type": "execute_result"
    }
   ],
   "source": [
    "# Using the resolution and ppi for ipad\n",
    "marker_size, sep_size = ((l / 264) * 2.54) / 100, ((sep / 264) * 2.54) / 100\n",
    "marker_size, sep_size"
   ]
  },
  {
   "cell_type": "code",
   "execution_count": 20,
   "id": "corresponding-happening",
   "metadata": {},
   "outputs": [
    {
     "data": {
      "text/plain": [
       "1.3333333333333333"
      ]
     },
     "execution_count": 20,
     "metadata": {},
     "output_type": "execute_result"
    }
   ],
   "source": [
    "aspect = 2224/1668\n",
    "aspect"
   ]
  },
  {
   "cell_type": "markdown",
   "id": "running-plumbing",
   "metadata": {},
   "source": [
    "# Camera Unity"
   ]
  },
  {
   "cell_type": "code",
   "execution_count": 21,
   "id": "bored-percentage",
   "metadata": {},
   "outputs": [
    {
     "data": {
      "text/plain": [
       "(31.07337846951275,\n",
       " 23.22305731034529,\n",
       " -0.0012454155259465694,\n",
       " 0.07321883537313074)"
      ]
     },
     "execution_count": 21,
     "metadata": {},
     "output_type": "execute_result"
    }
   ],
   "source": [
    "f = 35.0\n",
    "ax = 7.2087430151753449e+02\n",
    "ay = 7.2341896140074641e+02\n",
    "x0 = 3.2079706593660580e+02\n",
    "y0 = 2.7514504097910276e+02\n",
    "width = 640\n",
    "height = 480\n",
    "\n",
    "sizeX = f * width / ax;\n",
    "sizeY = f * height / ay;\n",
    "\n",
    "shiftX = -(x0 - (width / 2.0)) / width;\n",
    "shiftY = (y0 - (height / 2.0)) / height;\n",
    "\n",
    "\n",
    "sizeX, sizeY, shiftX, shiftY"
   ]
  },
  {
   "cell_type": "code",
   "execution_count": 22,
   "id": "adult-string",
   "metadata": {},
   "outputs": [],
   "source": [
    "(y0 - (height / 2.0)) / height;"
   ]
  },
  {
   "cell_type": "code",
   "execution_count": 23,
   "id": "african-begin",
   "metadata": {},
   "outputs": [
    {
     "data": {
      "text/plain": [
       "204.85495902089724"
      ]
     },
     "execution_count": 23,
     "metadata": {},
     "output_type": "execute_result"
    }
   ],
   "source": [
    "height - y0"
   ]
  },
  {
   "cell_type": "code",
   "execution_count": 24,
   "id": "refined-fashion",
   "metadata": {},
   "outputs": [
    {
     "data": {
      "text/plain": [
       "0.07291666666666667"
      ]
     },
     "execution_count": 24,
     "metadata": {},
     "output_type": "execute_result"
    }
   ],
   "source": [
    "35/480"
   ]
  },
  {
   "cell_type": "code",
   "execution_count": 25,
   "id": "sudden-playback",
   "metadata": {},
   "outputs": [
    {
     "data": {
      "text/plain": [
       "36.70734905737071"
      ]
     },
     "execution_count": 25,
     "metadata": {},
     "output_type": "execute_result"
    }
   ],
   "source": [
    "vfov = 2.0 * np.arctan(0.5 * height / ay) * 180 / np.pi\n",
    "vfov"
   ]
  }
 ],
 "metadata": {
  "kernelspec": {
   "display_name": "Python 3",
   "language": "python",
   "name": "python3"
  },
  "language_info": {
   "codemirror_mode": {
    "name": "ipython",
    "version": 3
   },
   "file_extension": ".py",
   "mimetype": "text/x-python",
   "name": "python",
   "nbconvert_exporter": "python",
   "pygments_lexer": "ipython3",
   "version": "3.7.3"
  }
 },
 "nbformat": 4,
 "nbformat_minor": 5
}
